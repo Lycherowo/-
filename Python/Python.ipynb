{
    "cells": [
        {
            "cell_type": "markdown",
            "metadata": {},
            "source": [
                "# 变量类型"
            ]
        },
        {
            "cell_type": "markdown",
            "metadata": {},
            "source": [
                "在Python中一切都可以看作对象, 也就是\"一切皆对象\".\n",
                "1. 基础类型:\n",
                "`int, float, bool, ...`  \n",
                "2. 容器类型:\n",
                "`tuple, list, dict, set, ...`  \n"
            ]
        },
        {
            "cell_type": "markdown",
            "metadata": {},
            "source": [
                "# 函数参数类型"
            ]
        },
        {
            "cell_type": "markdown",
            "metadata": {},
            "source": [
                "## 位置参数"
            ]
        },
        {
            "cell_type": "markdown",
            "metadata": {},
            "source": [
                "必需参数须以正确的顺序传入函数, 调用时的数量必须和声明时的一样"
            ]
        },
        {
            "cell_type": "markdown",
            "metadata": {},
            "source": [
                "## 默认参数"
            ]
        },
        {
            "cell_type": "markdown",
            "metadata": {},
            "source": [
                "如果需要给参数设定默认值, 可以使用默认值参数.  \n",
                "**只有在形参表末尾的那些参数可以有默认参数值.**  \n",
                "如果默认参数为可变类型, 请使用`None`作为默认值, 然后在函数内部赋值.    \n",
                "如果不需要默认值, 可以将默认值设为`_no_value`作为默认值. "
            ]
        },
        {
            "cell_type": "markdown",
            "metadata": {},
            "source": [
                "## 关键字参数"
            ]
        },
        {
            "cell_type": "markdown",
            "metadata": {},
            "source": [
                "通过参数名来给函数传递参数, 而不用关心参数列表定义时的顺序, 这被称之为关键字参数  \n",
                "这可以使我们不必担心参数的顺序, 而且可以只给没有默认值的参数传值"
            ]
        },
        {
            "cell_type": "markdown",
            "metadata": {},
            "source": [
                "如果想强制使用关键字函数, 可以将这个参数放到某个可变长参数或者单个`*`后面\n",
                "```Python\n",
                "def fun(name ,* ,age ,sex):\n",
                "    return\n",
                "```"
            ]
        },
        {
            "cell_type": "markdown",
            "metadata": {},
            "source": [
                "## 不定长参数"
            ]
        },
        {
            "cell_type": "markdown",
            "metadata": {},
            "source": [
                "在某个参数前面放一个或两个`*`, 可以使其变为不定长参数  \n",
                "参数前面有一个`*`, 参数会以元组的形式导入  \n",
                "参数前面有两个`*`, 参数会以字典的形式导入  "
            ]
        },
        {
            "cell_type": "code",
            "execution_count": 1,
            "metadata": {},
            "outputs": [
                {
                    "name": "stdout",
                    "output_type": "stream",
                    "text": [
                        "<class 'int'> 1\n",
                        "<class 'tuple'> (2, 3)\n",
                        "<class 'dict'> {'key': 'value'}\n"
                    ]
                }
            ],
            "source": [
                "def fun(num, *args, **kwargs):\n",
                "    print(type(num), num)\n",
                "    print(type(args), args)\n",
                "    print(type(kwargs), kwargs)\n",
                "fun(1, 2, 3, key='value')"
            ]
        },
        {
            "cell_type": "markdown",
            "metadata": {},
            "source": [
                "# Python注意事项"
            ]
        },
        {
            "cell_type": "markdown",
            "metadata": {},
            "source": [
                "### lambda表达式绑定值的时机"
            ]
        },
        {
            "cell_type": "markdown",
            "metadata": {},
            "source": [
                "lambda表达式中没有出现在参数中的变量在lambda表达式实际运行的时候绑定值, 而不是在定义的时候绑定."
            ]
        },
        {
            "cell_type": "markdown",
            "metadata": {},
            "source": [
                "### 不要使用可变类型作为函数输入默认值"
            ]
        },
        {
            "cell_type": "markdown",
            "metadata": {},
            "source": [
                "```Python\n",
                "def fun(arg : list = []) -> list:\n",
                "    return arg\n",
                "``` \n",
                "函数参数arg在默认情况下被维护为一个可变对象(列表), 并在每次函数调用之间保持相同的引用  \n",
                "多次调用该函数时, 函数的返回值均指向同一个列表  \n",
                "这段代码应该改为:  \n",
                "```Python\n",
                "def fun(arg: list | None = None) -> list:\n",
                "    if arg is None:\n",
                "        arg = []\n",
                "    return arg\n",
                "```"
            ]
        },
        {
            "cell_type": "markdown",
            "metadata": {},
            "source": [
                "### 生成器表达式的运行时间"
            ]
        },
        {
            "cell_type": "markdown",
            "metadata": {},
            "source": [
                "生成器表达式中`in`语句在声明时运行, 条件表达式在运行时执行  \n",
                "```Python\n",
                "arr = [1, 3, 5, 7]\n",
                "ge = (x for x in arr if arr.count(x) > 0)\n",
                "arr = [3, 5, 7, 9]\n",
                "list(ge)\n",
                "```\n",
                "这段代码实际上等同于:\n",
                "```Python\n",
                "ge = (x for x in [1, 3, 5, 7] if [3, 5, 7, 9].count(x) > 0)\n",
                "```"
            ]
        },
        {
            "cell_type": "markdown",
            "metadata": {},
            "source": [
                "### 列表复制"
            ]
        },
        {
            "cell_type": "markdown",
            "metadata": {},
            "source": [
                "使用`*`复制列表时为浅复制  \n",
                "如果列表中元素为可变类型, 列表元素改变会引起复制后的列表一起改变  \n",
                "```Python\n",
                "arr = [[1]] * 5\n",
                "arr[0][0] = 114514\n",
                "print(arr)\n",
                "```\n",
                "如果需要避免浅复制, 可以使用生成器表达式:\n",
                "```Python\n",
                "arr = [[1] for i in range(3)]\n",
                "arr[0][0] = 114514\n",
                "print(arr)\n",
                "```"
            ]
        },
        {
            "cell_type": "markdown",
            "metadata": {},
            "source": [
                "### 标识符"
            ]
        },
        {
            "cell_type": "markdown",
            "metadata": {},
            "source": [
                "- `_name` 不能使用`import *`导入\n",
                "- `__name` 是类中的私有成员\n",
                "- `__name__` 是系统定义的魔法函数"
            ]
        },
        {
            "cell_type": "markdown",
            "metadata": {},
            "source": [
                "### 查看Python中的关键字"
            ]
        },
        {
            "cell_type": "markdown",
            "metadata": {},
            "source": [
                "`import keyword`  \n",
                "`keyword.kwlist`  "
            ]
        },
        {
            "cell_type": "markdown",
            "metadata": {},
            "source": [
                "### 同时遍历多个列表"
            ]
        },
        {
            "cell_type": "markdown",
            "metadata": {},
            "source": [
                "若需要同时迭代多个序列, 可使用`zip()`函数"
            ]
        },
        {
            "cell_type": "code",
            "execution_count": 2,
            "metadata": {},
            "outputs": [
                {
                    "name": "stdout",
                    "output_type": "stream",
                    "text": [
                        "1 2\n",
                        "3 4\n",
                        "5 6\n"
                    ]
                }
            ],
            "source": [
                "list1 = [1, 3, 5]\n",
                "list2 = [2, 4, 6]\n",
                "for key, value in zip(list1, list2):\n",
                "    print(key, value)"
            ]
        },
        {
            "cell_type": "markdown",
            "metadata": {},
            "source": [
                "# 类和对象"
            ]
        },
        {
            "cell_type": "markdown",
            "metadata": {},
            "source": [
                "## 类属性和类方法"
            ]
        },
        {
            "cell_type": "markdown",
            "metadata": {},
            "source": [
                "## 魔法方法"
            ]
        },
        {
            "cell_type": "markdown",
            "metadata": {},
            "source": [
                "### 构造与初始化"
            ]
        },
        {
            "cell_type": "markdown",
            "metadata": {},
            "source": [
                "#### `__new__(self, *args, **kwargs)`"
            ]
        },
        {
            "cell_type": "markdown",
            "metadata": {},
            "source": [
                "- 是在一个对象实例化的时候所调用的第一个方法, 是真正意义上的构造方法\n",
                "- 一般不需要重写这个方法, 除非有特殊需求\n",
                "- 它的第一个参数是这个类，其他的参数是用来直接传递给`__init__`方法, 两个函数参数相同\n",
                "- `__new__`方法没有返回实例对象时, `__init__`不会被调用\n",
                "- `__new__`主要是用于继承一个不可变的类型, 比如tuple或string"
            ]
        },
        {
            "cell_type": "markdown",
            "metadata": {},
            "source": [
                "#### `__init__(self, *args, **kwargs)`"
            ]
        },
        {
            "cell_type": "markdown",
            "metadata": {},
            "source": [
                "- 当一个实例被创建的时候调用的初始化方法"
            ]
        },
        {
            "cell_type": "markdown",
            "metadata": {},
            "source": [
                "#### `__del__(self)`"
            ]
        },
        {
            "cell_type": "markdown",
            "metadata": {},
            "source": [
                "- 当一个实例被销毁时自动调用的方法"
            ]
        },
        {
            "cell_type": "markdown",
            "metadata": {},
            "source": [
                "#### 实例"
            ]
        },
        {
            "cell_type": "code",
            "execution_count": 3,
            "metadata": {},
            "outputs": [
                {
                    "name": "stdout",
                    "output_type": "stream",
                    "text": [
                        "Create a Dog ->>\n",
                        "Dog(name='Cat').__new__()\n",
                        "Dog(name='Cat').__init__()\n",
                        "Delete the Dog ->>\n",
                        "Dog(name='Cat').__del__()\n"
                    ]
                }
            ],
            "source": [
                "class Dog:\n",
                "    def __new__(self, name):\n",
                "        # 这个函数的参数与`__init__`相同\n",
                "        # 如果这个函数返回了值, 代表`__init__`会被调用\n",
                "        print(f\"Dog(name='{name}').__new__()\")\n",
                "        instance = super().__new__(self)\n",
                "        return instance\n",
                "    def __init__(self, name):\n",
                "        self.name = name\n",
                "        print(f\"Dog(name='{self.name}').__init__()\")\n",
                "    def __del__(self):\n",
                "        print(f\"Dog(name='{self.name}').__del__()\")\n",
                "print('Create a Dog ->>')\n",
                "dog = Dog('Cat')\n",
                "print('Delete the Dog ->>')\n",
                "del dog"
            ]
        },
        {
            "cell_type": "markdown",
            "metadata": {},
            "source": [
                "### 类的表示"
            ]
        },
        {
            "cell_type": "markdown",
            "metadata": {},
            "source": [
                "- 二者均用来用来描述类或对象信息\n",
                "- `__repr__`的目标是准确性, `__str__`的目标是可读性"
            ]
        },
        {
            "cell_type": "code",
            "execution_count": 4,
            "metadata": {},
            "outputs": [
                {
                    "name": "stdout",
                    "output_type": "stream",
                    "text": [
                        "Create a Dog ->>\n",
                        "Dog(name='Lion').__init__()\n",
                        "Print the Dog ->>\n",
                        "Dog(name='Lion').__str__()\n",
                        "Dog(name='Lion')\n"
                    ]
                }
            ],
            "source": [
                "class DogWithToString():\n",
                "    def __init__(self, name):\n",
                "        self.name = name\n",
                "        print(f\"Dog(name='{self.name}').__init__()\")\n",
                "    def __str__(self):\n",
                "        print(f\"Dog(name='{self.name}').__str__()\")\n",
                "        return f\"Dog(name='{self.name}')\"\n",
                "    def __repr__(self):\n",
                "        print(f\"Dog(name='{self.name}').__repr__()\")\n",
                "        return f\"Dog(name='{self.name}')\"\n",
                "print('Create a Dog ->>')\n",
                "dog = DogWithToString('Lion')\n",
                "print('Print the Dog ->>')\n",
                "print(dog)\n",
                "# print('Delete the Dog ->>')\n",
                "del dog"
            ]
        },
        {
            "cell_type": "markdown",
            "metadata": {},
            "source": [
                "#### `__bool__(self)`"
            ]
        },
        {
            "cell_type": "markdown",
            "metadata": {},
            "source": [
                "- 调用`bool(obj)`时该方法被触发, 返回一个布尔值"
            ]
        },
        {
            "cell_type": "code",
            "execution_count": 5,
            "metadata": {},
            "outputs": [
                {
                    "name": "stdout",
                    "output_type": "stream",
                    "text": [
                        "Create a Dog ->>\n",
                        "Dog(name='Lion').__init__()\n",
                        "Bool the Dog ->>\n",
                        "Dog(name='Lion', age=4).__bool__()\n",
                        "True\n"
                    ]
                }
            ],
            "source": [
                "class DogWithBool():\n",
                "    def __init__(self, name, age):\n",
                "        self.name = name\n",
                "        self.age = age\n",
                "        print(f\"Dog(name='{self.name}').__init__()\")\n",
                "    def __bool__(self):\n",
                "        print(f\"Dog(name='{self.name}', age={self.age}).__bool__()\")\n",
                "        return self.age > 3\n",
                "print('Create a Dog ->>')\n",
                "dog = DogWithBool('Lion', 4)\n",
                "print('Bool the Dog ->>')\n",
                "print(bool(dog))"
            ]
        },
        {
            "cell_type": "markdown",
            "metadata": {},
            "source": [
                "### 类的比较"
            ]
        },
        {
            "cell_type": "markdown",
            "metadata": {},
            "source": [
                "#### `__eq__(self, other)` and `__ne__(self, other)`"
            ]
        },
        {
            "cell_type": "markdown",
            "metadata": {},
            "source": [
                "- `__eq__`在判断对象和其他对象是否相同的时候被调用\n",
                "- `__ne__`在判断对象和其他对象是否不同的时候被调用"
            ]
        },
        {
            "cell_type": "code",
            "execution_count": 6,
            "metadata": {},
            "outputs": [
                {
                    "name": "stdout",
                    "output_type": "stream",
                    "text": [
                        "Create Some Dogs ->>\n",
                        "Dog(name='Tom').__init__()\n",
                        "Dog(name='Jerry').__init__()\n",
                        "Dog(name='Jerry').__init__()\n",
                        "Compare these Dogs ->>\n",
                        "Dog(name='Jerry').__eq__() >> False\n",
                        "Dog(name='Tom').__eq__() >> False\n",
                        "Dog(name='Jerry').__eq__() >> True\n",
                        "Dog(name='Jerry').__ne__() >> True\n",
                        "Dog(name='Tom').__ne__() >> True\n",
                        "Dog(name='Jerry').__ne__() >> False\n"
                    ]
                }
            ],
            "source": [
                "class DogWithEquals:\n",
                "    def __init__(self, name, age):\n",
                "        self.name = name\n",
                "        self.age = age\n",
                "        print(f\"Dog(name='{self.name}').__init__()\")\n",
                "    def __eq__(self, other):\n",
                "        print(f\"Dog(name='{self.name}').__eq__()\", end=' >> ')\n",
                "        return self.name == other.name and self.age == other.age\n",
                "    def __ne__(self, other):\n",
                "        print(f\"Dog(name='{self.name}').__ne__()\", end=' >> ')\n",
                "        return not(self.name == other.name and self.age == other.age)\n",
                "print('Create Some Dogs ->>')\n",
                "dog_tom = DogWithEquals('Tom', 3)\n",
                "dog_jerry = DogWithEquals('Jerry', 4)\n",
                "dog_spike = DogWithEquals('Jerry', 4)\n",
                "print('Compare these Dogs ->>')\n",
                "print(dog_jerry == dog_tom)\n",
                "print(dog_tom == dog_jerry)\n",
                "print(dog_jerry == dog_spike)\n",
                "print(dog_jerry != dog_tom)\n",
                "print(dog_tom != dog_jerry)\n",
                "print(dog_jerry != dog_spike)"
            ]
        },
        {
            "cell_type": "markdown",
            "metadata": {},
            "source": [
                "#### `__lt__(self, other)` and `__gt__(self, other)`"
            ]
        },
        {
            "cell_type": "markdown",
            "metadata": {},
            "source": [
                "- `__eq__`在判断对象是否比其他对象**小**的时候被调用\n",
                "- `__ne__`在判断对象是否比其他对象**大**的时候被调用"
            ]
        },
        {
            "cell_type": "code",
            "execution_count": 7,
            "metadata": {},
            "outputs": [
                {
                    "name": "stdout",
                    "output_type": "stream",
                    "text": [
                        "Create Some Dogs ->>\n",
                        "Dog(name='Jerry').__init__()\n",
                        "Dog(name='Tom').__init__()\n",
                        "Compare these Dogs ->>\n",
                        "Dog(name='Jerry').__gt__() >> True\n",
                        "Dog(name='Jerry').__lt__() >> False\n"
                    ]
                }
            ],
            "source": [
                "class DogWithCompare:\n",
                "    def __init__(self, name, age):\n",
                "        self.name = name\n",
                "        self.age = age\n",
                "        print(f\"Dog(name='{self.name}').__init__()\")\n",
                "    def __lt__(self, other):\n",
                "        print(f\"Dog(name='{self.name}').__lt__()\", end=' >> ')\n",
                "        return self.age < other.age\n",
                "    def __gt__(self, other):\n",
                "        print(f\"Dog(name='{self.name}').__gt__()\", end=' >> ')\n",
                "        return self.age > other.age\n",
                "print('Create Some Dogs ->>')\n",
                "dog_jerry = DogWithCompare('Jerry', 4)\n",
                "dog_tom = DogWithCompare('Tom', 3)\n",
                "print('Compare these Dogs ->>')\n",
                "print(dog_jerry > dog_tom)\n",
                "print(dog_jerry < dog_tom)"
            ]
        },
        {
            "cell_type": "markdown",
            "metadata": {},
            "source": [
                "### 可调用对象"
            ]
        },
        {
            "cell_type": "markdown",
            "metadata": {},
            "source": [
                "#### `__call__(self, *args)`"
            ]
        },
        {
            "cell_type": "markdown",
            "metadata": {},
            "source": [
                "- 实现了这个函数之后, 对象可以被当做一个方法那样被调用."
            ]
        },
        {
            "cell_type": "code",
            "execution_count": 8,
            "metadata": {},
            "outputs": [
                {
                    "name": "stdout",
                    "output_type": "stream",
                    "text": [
                        "Create Some Cat ->>\n",
                        "Cat(name='Tom').__init__()\n",
                        "Cat makes some Noises ->>\n",
                        "Cat(name='Tom').__call__()\n",
                        "Tom: meow~ meow~\n"
                    ]
                }
            ],
            "source": [
                "class CatWhichCanBark:\n",
                "    def __init__(self, name):\n",
                "        self.name = name\n",
                "        print(f\"Cat(name='{self.name}').__init__()\")\n",
                "    def __call__(self):\n",
                "        print(f\"Cat(name='{self.name}').__call__()\")\n",
                "        print(f\"{self.name}: meow~ meow~\")\n",
                "print('Create Some Cat ->>')\n",
                "tom = CatWhichCanBark(\"Tom\")\n",
                "print('Cat makes some Noises ->>')\n",
                "tom()"
            ]
        },
        {
            "cell_type": "markdown",
            "metadata": {},
            "source": [
                "### 访问控制"
            ]
        },
        {
            "cell_type": "markdown",
            "metadata": {},
            "source": [
                "- `__setattr__`定义当一个属性被设置时的行为\n",
                "- `__getattr__`定义当用户试图获取一个不存在的属性时的行为\n",
                "- `__delattr__`删除某个属性时调用\n",
                "- `__getattribute__`访问任意属性或方法时调用"
            ]
        },
        {
            "cell_type": "markdown",
            "metadata": {},
            "source": [
                "### 容器类的操作"
            ]
        },
        {
            "cell_type": "markdown",
            "metadata": {},
            "source": [
                "容器类型包括: 字典, 元组, 列表, 字符串等.<br>\n",
                "- `__setitem__(self, key, value)` 定义设置容器中指定元素的行为, 相当于`self[key] = value`\n",
                "- `__getitem__(self, key)` 定义获取容器中指定元素的行为, 相当于`self[key]`\n",
                "- `__delitem__(self, key)` 定义删除容器中指定元素的行为, 相当于`del self[key]`\n",
                "- `__len__(self)` 定义当被`len()`调用时的行为, 返回容器中元素的个数\n",
                "- `__contains__(self, item)` 定义当使用成员测试运算符(`in`或`not in`)时的行为\n",
                "- `__reversed__(self)` 定义当被`reversed()`调用时的行为"
            ]
        },
        {
            "cell_type": "code",
            "execution_count": 9,
            "metadata": {},
            "outputs": [
                {
                    "name": "stdout",
                    "output_type": "stream",
                    "text": [
                        "setitem key=1 name=Gay->Jerry age=3->3\n",
                        "getitem key=0 name=Tom age=1\n",
                        "delitem key=2 name=['Tom', 3, 'Spike'] age=[1, 3, 4]\n",
                        "len len=len(['Tom', 3])\n",
                        "contains name=Tom\n"
                    ]
                }
            ],
            "source": [
                "class CatLitter:\n",
                "    def __init__(self, name, age):\n",
                "        self.name = name\n",
                "        self.age = age\n",
                "    def __setitem__(self, key, cat):\n",
                "        print(f\"setitem key={key} name={self.name[key]}->{cat['name']} age={self.age[key]}->{cat['age']}\")\n",
                "        self.name[key] = cat['name']\n",
                "        self.name[key] = cat['age']\n",
                "    def __getitem__(self, key):\n",
                "        print(f\"getitem key={key} name={self.name[key]} age={self.age[key]}\")\n",
                "        return {'name': self.name[key], 'age':self.age[key]}\n",
                "    def __delitem__(self, key):\n",
                "        print(f\"delitem key={key} name={self.name} age={self.age}\")\n",
                "        del self.name[key]\n",
                "        del self.age[key]\n",
                "    def __len__(self):\n",
                "        print(f\"len len=len({self.name})\")\n",
                "        return len(self.name)\n",
                "    def __contains__(self, name):\n",
                "        print(f\"contains name={name}\")\n",
                "        return name in self.name\n",
                "cats = CatLitter(['Tom', 'Gay', 'Spike'], [1, 3, 4])\n",
                "cats[1] = {'name': 'Jerry', 'age' : 3}\n",
                "t = cats[0]\n",
                "del cats[2]\n",
                "t = len(cats)\n",
                "t = 'Tom' in cats"
            ]
        },
        {
            "cell_type": "markdown",
            "metadata": {},
            "source": [
                "### 序列化"
            ]
        },
        {
            "cell_type": "markdown",
            "metadata": {},
            "source": [
                "### `__getstate__(self)`"
            ]
        },
        {
            "cell_type": "markdown",
            "metadata": {},
            "source": [
                "### `__setstate__(self, *args)`"
            ]
        },
        {
            "cell_type": "markdown",
            "metadata": {},
            "source": [
                "# 迭代器/生成器/装饰器"
            ]
        },
        {
            "cell_type": "markdown",
            "metadata": {},
            "source": [
                "### 迭代器: `__iter__(self)` and `__next__(self)`"
            ]
        },
        {
            "cell_type": "markdown",
            "metadata": {},
            "source": [
                "迭代器是一个可以记住遍历的位置的对象.    \n",
                "迭代器对象从集合的第一个元素开始访问, 直到所有的元素被访问完结束.  "
            ]
        },
        {
            "cell_type": "markdown",
            "metadata": {},
            "source": [
                "`__iter__()`方法返回一个特殊的迭代器对象, 迭代器对象是实现了`__next__()`方法的对象  \n",
                "`__next__()`方法会返回下一个迭代器对象, 它通过 `StopIteration`异常标识迭代的完成  "
            ]
        },
        {
            "cell_type": "code",
            "execution_count": 10,
            "metadata": {},
            "outputs": [
                {
                    "name": "stdout",
                    "output_type": "stream",
                    "text": [
                        "2 5 1 3 "
                    ]
                },
                {
                    "data": {
                        "text/plain": [
                            "2"
                        ]
                    },
                    "execution_count": 10,
                    "metadata": {},
                    "output_type": "execute_result"
                }
            ],
            "source": [
                "\"\"\"使用迭代器遍历列表\"\"\"\n",
                "class MyList:\n",
                "    def __init__(self, list_):\n",
                "        self.__list = list_\n",
                "        self.__len = len(list_)\n",
                "    def __iter__(self):\n",
                "        self.i = 0\n",
                "        return self\n",
                "    def __next__(self):\n",
                "        if self.i < self.__len - 1:\n",
                "            self.i += 1\n",
                "            return self.__list[self.i]\n",
                "        else:\n",
                "            raise StopIteration\n",
                "my_list = MyList([4, 2, 5, 1, 3])\n",
                "for i in my_list:\n",
                "    print(i, end=' ')\n",
                "next(iter(MyList([4, 2, 5, 1, 3])))"
            ]
        },
        {
            "cell_type": "markdown",
            "metadata": {},
            "source": []
        },
        {
            "cell_type": "markdown",
            "metadata": {},
            "source": [
                "### 生成器"
            ]
        },
        {
            "cell_type": "markdown",
            "metadata": {},
            "source": [
                "`yield`是一个关键字, 用于定义生成器函数  \n",
                "生成器函数是一种特殊的函数, 可以在迭代过程中逐步产生值, 而不是一次性返回所有结果  \n",
                "生成器是一个返回迭代器的函数, 只能用于迭代操作"
            ]
        },
        {
            "cell_type": "code",
            "execution_count": 11,
            "metadata": {},
            "outputs": [
                {
                    "name": "stdout",
                    "output_type": "stream",
                    "text": [
                        "Start\n",
                        "3 1 5 2 4 "
                    ]
                }
            ],
            "source": [
                "\"\"\"使用生成器遍历列表\"\"\"\n",
                "class MyList:\n",
                "    def __init__(self, list_):\n",
                "        self.__list = list_\n",
                "        self.__len = len(list_)      \n",
                "    def ergodic(self):\n",
                "        \"\"\"这个函数是一个生成器函数\"\"\"\n",
                "        n = self.__len - 1\n",
                "        while n >= 0:\n",
                "            yield self.__list[n]\n",
                "            # 程序运行完上述yield函数后转而运行print函数\n",
                "            n = n - 1\n",
                "print('Start')\n",
                "my_list = MyList([4, 2, 5, 1, 3])\n",
                "for value in my_list.ergodic():\n",
                "    # 程序运行完上述for后从上一次my_list.ergodic()中断的地方继续运行\n",
                "    # 也就是从开头开始(第一次运行)或者yield之后()\n",
                "    print(value, end =' ')\n",
                "    "
            ]
        },
        {
            "cell_type": "code",
            "execution_count": 12,
            "metadata": {},
            "outputs": [
                {
                    "name": "stdout",
                    "output_type": "stream",
                    "text": [
                        "0 1 1 2 3 5 8 13 21 34 "
                    ]
                }
            ],
            "source": [
                "\"\"\"使用生成器函数实现斐波那契数列\"\"\"\n",
                "def fibonacci(n): \n",
                "    a, b, counter = 0, 1, 0\n",
                "    for i in range(n):\n",
                "        yield a\n",
                "        a, b = b, a + b\n",
                "def for_fibonacci(n):\n",
                "    \"\"\"使用for自动遍历\"\"\" \n",
                "    for i in fibonacci(10):\n",
                "        print(i, end=' ')\n",
                "def while_fibonacci(n):\n",
                "    \"\"\"使用while手动遍历\"\"\"\n",
                "    f = fibonacci(n)\n",
                "    while True:\n",
                "        try:\n",
                "            print(next(f), end=\" \")\n",
                "        except StopIteration:\n",
                "            return\n",
                "while_fibonacci(10)"
            ]
        },
        {
            "cell_type": "markdown",
            "metadata": {},
            "source": [
                "或者, 使用生成器表达式:"
            ]
        },
        {
            "cell_type": "code",
            "execution_count": 13,
            "metadata": {},
            "outputs": [
                {
                    "data": {
                        "text/plain": [
                            "[0, 1, 4, 9, 16, 25, 36, 49, 64, 81]"
                        ]
                    },
                    "execution_count": 13,
                    "metadata": {},
                    "output_type": "execute_result"
                }
            ],
            "source": [
                "list((x*x for x in range(10)))"
            ]
        },
        {
            "cell_type": "markdown",
            "metadata": {},
            "source": [
                "### 装饰器"
            ]
        },
        {
            "cell_type": "markdown",
            "metadata": {},
            "source": [
                "\"我要成为你, 然后取代你\""
            ]
        },
        {
            "cell_type": "code",
            "execution_count": 14,
            "metadata": {},
            "outputs": [
                {
                    "name": "stdout",
                    "output_type": "stream",
                    "text": [
                        "Bitter Chocolate Decoration\n",
                        "19\n"
                    ]
                }
            ],
            "source": [
                "\"\"\"装饰器函数\"\"\"\n",
                "def decorator(fun: callable) -> callable:\n",
                "    def wrapper(*args, **kwargs):\n",
                "        print('Bitter Chocolate Decoration')\n",
                "        return fun(*args, **kwargs)\n",
                "    return wrapper\n",
                "\n",
                "@decorator\n",
                "def do_something(a, b):\n",
                "    return a * b + a + b\n",
                "# Equals:\n",
                "# do_something = decorator(do_something)\n",
                " \n",
                "t = do_something(3, 4)\n",
                "print(t)"
            ]
        },
        {
            "cell_type": "code",
            "execution_count": 15,
            "metadata": {},
            "outputs": [
                {
                    "name": "stdout",
                    "output_type": "stream",
                    "text": [
                        "Bitter Chocolate Decoration\n",
                        "[19, 19, 19, 19]\n"
                    ]
                }
            ],
            "source": [
                "\"\"\"带参数的装饰器函数\"\"\"\n",
                "def decorator(n) -> callable:\n",
                "    \"\"\"the decorator accepts arguments for the decorator and returns a new decorator\"\"\"\n",
                "    def inner_decorator(fun:callable) -> callable:\n",
                "        def wrapper(*args, **kwargs):\n",
                "            print('Bitter Chocolate Decoration')\n",
                "            result = []\n",
                "            for i in range(n):\n",
                "                t = fun(*args, **kwargs)\n",
                "                result.append(t)\n",
                "            return result\n",
                "        return wrapper\n",
                "    return inner_decorator\n",
                "\n",
                "@decorator(n=4)\n",
                "def do_something(a, b):\n",
                "    return a * b + a + b\n",
                "    \n",
                "t = do_something(3, 4)\n",
                "print(t)"
            ]
        },
        {
            "cell_type": "code",
            "execution_count": 16,
            "metadata": {},
            "outputs": [
                {
                    "name": "stdout",
                    "output_type": "stream",
                    "text": [
                        "Bitter Chocolate Decoration\n",
                        "29\n"
                    ]
                }
            ],
            "source": [
                "\"\"\"装饰器类\"\"\"\n",
                "class Decorator:\n",
                "    def __init__(self, fun:callable) -> None:\n",
                "        self.fun = fun\n",
                "\n",
                "    def __call__(self, *args, **kwargs) -> callable:\n",
                "        print('Bitter Chocolate Decoration')\n",
                "        return self.fun(*args, **kwargs)\n",
                "\n",
                "@Decorator\n",
                "def do_something(a, b):\n",
                "    return a * b + a + b\n",
                "\n",
                "t = do_something(4, 5)\n",
                "print(t)\n"
            ]
        },
        {
            "cell_type": "code",
            "execution_count": 17,
            "metadata": {},
            "outputs": [
                {
                    "name": "stdout",
                    "output_type": "stream",
                    "text": [
                        "Bitter Chocolate Decoration\n",
                        "[29, 29, 29, 29, 29]\n"
                    ]
                }
            ],
            "source": [
                "\"\"\"带参数的装饰器类\"\"\"\n",
                "class Decorator:\n",
                "    def __init__(self, n: int) -> None:\n",
                "        self.n = n\n",
                "    def __call__(self, fun: callable) -> callable:\n",
                "        def wrapper(*args, **kwargs):\n",
                "            print(\"Bitter Chocolate Decoration\")\n",
                "            result = []\n",
                "            for i in range(self.n):\n",
                "                t = fun(*args, **kwargs)\n",
                "                result.append(t)\n",
                "            return result\n",
                "        return wrapper\n",
                "\n",
                "@Decorator(n=5)\n",
                "def do_something(a, b):\n",
                "    return a * b + a + b\n",
                "\n",
                "t = do_something(4, 5)\n",
                "print(t)\n"
            ]
        },
        {
            "cell_type": "code",
            "execution_count": 18,
            "metadata": {},
            "outputs": [
                {
                    "name": "stdout",
                    "output_type": "stream",
                    "text": [
                        "This is a string\n"
                    ]
                }
            ],
            "source": [
                "\"\"\"类的装饰器\"\"\"\n",
                "from typing import Type\n",
                "def decorator(cls: Type[object]) -> Type[object]:\n",
                "    def __str__(self):\n",
                "        return 'This is a string'\n",
                "    cls.__str__ = __str__\n",
                "    return cls\n",
                "\n",
                "@decorator\n",
                "class The_Class:\n",
                "    def __init__(self, arg):\n",
                "        self.arg = arg\n",
                "\n",
                "c = The_Class(3)\n",
                "print(str(c))"
            ]
        },
        {
            "cell_type": "code",
            "execution_count": 19,
            "metadata": {},
            "outputs": [
                {
                    "name": "stdout",
                    "output_type": "stream",
                    "text": [
                        "This is a String\n"
                    ]
                }
            ],
            "source": [
                "\"\"\"类的装饰器类\"\"\"\n",
                "from typing import Any, Type\n",
                "\n",
                "class Decorator:\n",
                "    def __init__(self, fun:callable):\n",
                "        self.func = fun\n",
                "    def __call__(self, cls:Type[object]) -> Type[object]:\n",
                "        cls.__str__ = self.func\n",
                "        return cls\n",
                "    \n",
                "def __str__(self):\n",
                "        return 'This is a String'\n",
                "\n",
                "@Decorator(__str__)\n",
                "class The_Class:\n",
                "    def __init__(self, arg):\n",
                "        self.arg = arg\n",
                "\n",
                "c = The_Class(3)\n",
                "print(str(c))"
            ]
        },
        {
            "cell_type": "markdown",
            "metadata": {},
            "source": [
                "# 模块和包"
            ]
        },
        {
            "cell_type": "markdown",
            "metadata": {},
            "source": [
                "## 模块"
            ]
        },
        {
            "cell_type": "markdown",
            "metadata": {},
            "source": [
                "在Python中，一个`.py`文件就称之为一个模块.  \n",
                "一个模块中, 可以存在多个函数和类, 它是实现一项或多项功能的程序块.  "
            ]
        },
        {
            "cell_type": "markdown",
            "metadata": {},
            "source": [
                "### 导入模块:`import ...`"
            ]
        },
        {
            "cell_type": "markdown",
            "metadata": {},
            "source": [
                "`import module1, module2, ...`  \n",
                "对同一模块多次导入时, 实际上只会导入一次.  \n",
                "使用`sys.path`可以查看Python搜索包的路径.  "
            ]
        },
        {
            "cell_type": "markdown",
            "metadata": {},
            "source": [
                "### 导入模块:`from ... import ...`"
            ]
        },
        {
            "cell_type": "markdown",
            "metadata": {},
            "source": [
                "可以调用模块中的某一个方法或属性.  \n",
                "`from module import name1, name2, ...`  \n",
                "其中`name1, name2, ...`是具体所需要导入的功能.  "
            ]
        },
        {
            "cell_type": "markdown",
            "metadata": {},
            "source": [
                "### 导入模块`from ... import *`"
            ]
        },
        {
            "cell_type": "markdown",
            "metadata": {},
            "source": [
                "可以导入一个模块的所有功能."
            ]
        },
        {
            "cell_type": "markdown",
            "metadata": {},
            "source": [
                "## 包"
            ]
        },
        {
            "cell_type": "markdown",
            "metadata": {},
            "source": [
                "可以避免模块名冲突, 因为包名不同的时候目录也不同.  \n",
                "如果一个文件下存在`__init__.py`文件, Python就会把这个目录当作包.   \n",
                "`__init__.py`代表了包本身, 存放了包的信息.    \n",
                "`__init__.py`实际上本身就是一个模块, 模块名与包名相同."
            ]
        },
        {
            "cell_type": "markdown",
            "metadata": {},
            "source": [
                "# 进程和线程"
            ]
        },
        {
            "cell_type": "markdown",
            "metadata": {},
            "source": [
                "## 多线程编程"
            ]
        },
        {
            "cell_type": "code",
            "execution_count": 59,
            "metadata": {},
            "outputs": [],
            "source": [
                "\"\"\"将线程创建成类\"\"\"\n",
                "import time, threading\n",
                "# 定义一个线程, 并重写其run()方法\n",
                "class MyThread(threading.Thread):\n",
                "    def run(self):\n",
                "        for i in range(2):\n",
                "            print('Thread={:2s}, i={:2d}\\n'.format(self.name, i), end='')\n",
                "            time.sleep(0.3)   "
            ]
        },
        {
            "cell_type": "code",
            "execution_count": 57,
            "metadata": {},
            "outputs": [
                {
                    "name": "stdout",
                    "output_type": "stream",
                    "text": [
                        "Thread=Thread-14, i= 0\n",
                        "Thread=Thread-15, i= 0\n",
                        "Thread=Thread-16, i= 0\n",
                        "Thread=Thread-15, i= 1\n",
                        "Thread=Thread-14, i= 1\n",
                        "Thread=Thread-16, i= 1\n",
                        "MainThread\n"
                    ]
                }
            ],
            "source": [
                "\"\"\"使用创建成类的线程\"\"\"\n",
                "import threading\n",
                "# 创建线程\n",
                "threads = [MyThread() for i in range(3)]\n",
                "# 使用start()启动线程\n",
                "for t in threads:\n",
                "    # time.sleep(0.15)\n",
                "    t.start()\n",
                "# 让主线程等待其余线程运行完毕\n",
                "for t in threads:\n",
                "    t.join()\n",
                "# 输出提示信息\n",
                "print('MainThread')"
            ]
        },
        {
            "cell_type": "code",
            "execution_count": 22,
            "metadata": {},
            "outputs": [
                {
                    "data": {
                        "text/plain": [
                            "<_MainThread(MainThread, started 17948)>"
                        ]
                    },
                    "execution_count": 22,
                    "metadata": {},
                    "output_type": "execute_result"
                }
            ],
            "source": [
                "\"\"\"返回当前线程信息\"\"\"\n",
                "threading.current_thread()"
            ]
        },
        {
            "cell_type": "code",
            "execution_count": 58,
            "metadata": {},
            "outputs": [
                {
                    "name": "stdout",
                    "output_type": "stream",
                    "text": [
                        "my_thread O-oooooooooo\n"
                    ]
                }
            ],
            "source": [
                "\"\"\"创建调用某个方法运行的线程\"\"\"\n",
                "def print_something(arg):\n",
                "    print(threading.current_thread().name, arg)\n",
                "t = threading.Thread(\n",
                "    name=f'my_thread',      # 进程名称\n",
                "    target=print_something, # 进程调用的函数(Callable)\n",
                "    args=('O-oooooooooo',), # 上述函数的参数\n",
                ")\n",
                "t.start()"
            ]
        },
        {
            "cell_type": "markdown",
            "metadata": {},
            "source": [
                "## 在多线程编程中避免资源竞争"
            ]
        },
        {
            "cell_type": "code",
            "execution_count": 28,
            "metadata": {},
            "outputs": [
                {
                    "name": "stdout",
                    "output_type": "stream",
                    "text": [
                        "Thread=t-0, var=1\n",
                        "Thread=t-3, var=1\n",
                        "Thread=t-2, var=1\n",
                        "Thread=t-6, var=1\n",
                        "Thread=t-5, var=1\n",
                        "Thread=t-4, var=1\n",
                        "Thread=t-9, var=1\n",
                        "Thread=t-7, var=1\n",
                        "Thread=t-8, var=1\n",
                        "Thread=t-1, var=1\n"
                    ]
                }
            ],
            "source": [
                "\"\"\"多线程中发生资源竞争的情况\"\"\"\n",
                "import time\n",
                "# 创建资源\n",
                "var = 0\n",
                "\n",
                "def add_one_to_var():\n",
                "    global var\n",
                "    # 模拟资源被修改的过程\n",
                "    tmp = var + 1\n",
                "    time.sleep(0.05)\n",
                "    var = tmp\n",
                "    # 输出提示信息\n",
                "    print(f'Thread={threading.current_thread().name}, var={var}')\n",
                "\n",
                "threads = [threading.Thread(target=add_one_to_var, name=f't-{i}') for i in range(10)]\n",
                "for t in threads:\n",
                "    t.start()"
            ]
        },
        {
            "cell_type": "code",
            "execution_count": 25,
            "metadata": {},
            "outputs": [],
            "source": [
                "\"\"\"使用锁避免资源竞争\"\"\"\n",
                "import time\n",
                "# 创建资源和资源锁\n",
                "var = 0\n",
                "var_lock = threading.Lock()\n",
                "\n",
                "def add_one_to_var():\n",
                "    global var\n",
                "    try:\n",
                "        # 对资源上锁\n",
                "        var_lock.acquire()\n",
                "        # 模拟资源被修改的过程\n",
                "        tmp = var + 1\n",
                "        time.sleep(0.05)\n",
                "        var = tmp\n",
                "        # 输出提示信息\n",
                "        print(f'Thread={threading.current_thread().name}, var={var}')\n",
                "    finally:\n",
                "        # 对资源开锁\n",
                "        var_lock.release()\n",
                "\n",
                "threads = [threading.Thread(target=add_one_to_var, name=f't-{i}') for i in range(10)]\n",
                "for t in threads:\n",
                "    t.start()"
            ]
        },
        {
            "cell_type": "code",
            "execution_count": 29,
            "metadata": {},
            "outputs": [
                {
                    "name": "stdout",
                    "output_type": "stream",
                    "text": [
                        "[买家]星: 你好, 我想收白葱的c服和三分妄想家行秋的衣服\n",
                        "[卖家]织: 你好~ 这两件都还有的, 你先提交订单不要付款, 我给你打折\n",
                        "[买家]星: 谢谢咪! 我已经提交订单了\n",
                        "[卖家]织: 已经改好价格啦~ \n",
                        "[买家]星: 嗯嗯, 我已经支付成功了!\n",
                        "[买家]星: 感谢妈咪出物~\n",
                        "[卖家]织: 嗯, 我现在就去发货\n",
                        "[卖家]织: 感谢妈咪收物~\n"
                    ]
                }
            ],
            "source": [
                "\"\"\"Condition条件变量\"\"\"\n",
                "# 使用Condition对象可以在某些事件触发或者达到特定的条件后才处理数据.   \n",
                "# Condition对象提供了acquire, release, wait, notify方法\n",
                "# 常用于生产者消费者模式\n",
                "class Consumer(threading.Thread):\n",
                "    def __init__(self, name, condition):\n",
                "        super(Consumer, self).__init__()\n",
                "        self.condition = condition\n",
                "        self.name = name\n",
                "    def run(self):\n",
                "        time.sleep(1) # 确保Producer先运行\n",
                "        self.condition.acquire()\n",
                "        print(f'[买家]{self.name}: 你好, 我想收白葱的c服和三分妄想家行秋的衣服')\n",
                "        self.condition.notify()\n",
                "        self.condition.wait()\n",
                "        print(f'[买家]{self.name}: 谢谢咪! 我已经提交订单了')\n",
                "        self.condition.notify()\n",
                "        self.condition.wait()\n",
                "        print(f'[买家]{self.name}: 嗯嗯, 我已经支付成功了!')\n",
                "        self.condition.notify()\n",
                "        self.condition.release()\n",
                "        print(f'[买家]{self.name}: 感谢妈咪出物~')\n",
                "\n",
                "class Producer(threading.Thread):\n",
                "    def __init__(self, name, condition):\n",
                "        super(Producer, self).__init__()\n",
                "        self.condition = condition\n",
                "        self.name = name\n",
                "    def run(self):\n",
                "        self.condition.acquire()\n",
                "        self.condition.wait()\n",
                "        print(f'[卖家]{self.name}: 你好~ 这两件都还有的, 你先提交订单不要付款, 我给你打折')\n",
                "        self.condition.notify()\n",
                "        self.condition.wait()\n",
                "        print(f'[卖家]{self.name}: 已经改好价格啦~ ')\n",
                "        self.condition.notify()\n",
                "        self.condition.wait()\n",
                "        print(f'[卖家]{self.name}: 嗯, 我现在就去发货')\n",
                "        self.condition.notify()\n",
                "        self.condition.release()\n",
                "        print(f'[卖家]{self.name}: 感谢妈咪收物~')\n",
                "\n",
                "condition = threading.Condition()\n",
                "producer = Producer('织', condition)\n",
                "consumer = Consumer('星', condition)\n",
                "producer.start()\n",
                "consumer.start()\n",
                "# 你们两个何必呢, 都是一个人的OC"
            ]
        },
        {
            "cell_type": "markdown",
            "metadata": {},
            "source": [
                "## 线程间通信"
            ]
        },
        {
            "cell_type": "code",
            "execution_count": 27,
            "metadata": {},
            "outputs": [
                {
                    "name": "stdout",
                    "output_type": "stream",
                    "text": [
                        "Star goes into the queue\n",
                        "Candle goes into the queue\n",
                        "Connection goes into the queue\n",
                        "Star leaves from the queue\n",
                        "Candle leaves from the queue\n",
                        "Connection leaves from the queue\n"
                    ]
                },
                {
                    "name": "stdout",
                    "output_type": "stream",
                    "text": [
                        "Thread=t-1, var=1Thread=t-0, var=1\n",
                        "Thread=t-2, var=1\n",
                        "Thread=t-4, var=1\n",
                        "Thread=t-3, var=1\n",
                        "Thread=t-6, var=1\n",
                        "Thread=t-8, var=1\n",
                        "Thread=t-7, var=1\n",
                        "Thread=t-5, var=1\n",
                        "Thread=t-9, var=1\n",
                        "\n",
                        "Thread=t-0, var=1\n",
                        "Thread=t-1, var=2\n",
                        "Thread=t-2, var=3\n",
                        "Thread=t-3, var=4\n",
                        "Thread=t-4, var=5\n",
                        "Thread=t-5, var=6\n",
                        "Thread=t-6, var=7\n",
                        "Thread=t-7, var=8\n",
                        "Thread=t-8, var=9\n",
                        "Thread=t-9, var=10\n",
                        "[买家]星: 你好, 我想收白葱的c服和三分妄想家行秋的衣服\n",
                        "[卖家]织: 你好~ 这两件都还有的, 你先提交订单不要付款, 我给你打折\n",
                        "[买家]星: 谢谢咪! 我已经提交订单了\n",
                        "[卖家]织: 已经改好价格啦~ \n",
                        "[买家]星: 嗯嗯, 我已经支付成功了!\n",
                        "[买家]星: 感谢妈咪出物~\n",
                        "[卖家]织: 嗯, 我现在就去发货\n",
                        "[卖家]织: 感谢妈咪收物~\n"
                    ]
                }
            ],
            "source": [
                "\"\"\"使用Queue进行进程间通信\"\"\"\n",
                "from queue import Queue\n",
                "\n",
                "is_ready = True\n",
                "\n",
                "def write(queue):\n",
                "    for v in ['Star', 'Candle', 'Connection']:\n",
                "        queue.put(v)\n",
                "        print(f'{v} goes into the queue')\n",
                "def read(queue):\n",
                "    while is_ready:\n",
                "        v = queue.get(True)\n",
                "        print(f'{v} leaves from the queue')\n",
                "\n",
                "queue = Queue()\n",
                "thread_write = threading.Thread(target=write, args=(queue,))\n",
                "thread_read = threading.Thread(target=read, args=(queue,))\n",
                "thread_write.start()\n",
                "thread_read.start()"
            ]
        },
        {
            "cell_type": "markdown",
            "metadata": {},
            "source": [
                "## 多进程编程"
            ]
        },
        {
            "cell_type": "markdown",
            "metadata": {},
            "source": [
                "注: 这段代码在Jupyter下不能正常运行(子进程的print不会输出到结果中), 请使用文件的形式运行"
            ]
        },
        {
            "cell_type": "code",
            "execution_count": 55,
            "metadata": {},
            "outputs": [
                {
                    "name": "stdout",
                    "output_type": "stream",
                    "text": [
                        "CPU number: 16\n",
                        "my_process 11124\n"
                    ]
                }
            ],
            "source": [
                "\"\"\"创建执行自定义方法的进程\"\"\"\n",
                "import multiprocessing\n",
                "def print_something(arg, kwarg):\n",
                "    print(multiprocessing.current_process().name, arg, kwarg)\n",
                "if __name__ == \"__main__\":\n",
                "    # 创建进程\n",
                "    p = multiprocessing.Process(\n",
                "        name='my_process',         # 进程名称\n",
                "        target=print_something,    # 进程调用的函数(Callable)\n",
                "        args=('Genshin Impact',),  # 上述函数的位置参数\n",
                "        kwargs={'kwarg': 'Open!'}  # 上述函数的关键字参数参数\n",
                "    )\n",
                "    # 启动进程\n",
                "    p.start()\n",
                "    # 查看本机CPU核数\n",
                "    print('CPU number:', str(multiprocessing.cpu_count()))\n",
                "    # 查看各进程信息\n",
                "    for p in multiprocessing.active_children():\n",
                "        print(f'{p.name} {p.pid}')\n",
                "    p.join()"
            ]
        },
        {
            "cell_type": "code",
            "execution_count": 61,
            "metadata": {},
            "outputs": [],
            "source": [
                "\"\"\"主进程结束时结束子进程\"\"\"\n",
                "import multiprocessing, time\n",
                "def print_something():\n",
                "    time.sleep(3)\n",
                "    print(multiprocessing.current_process().name, \"Genshin Impact Open!\")\n",
                "if __name__ == \"__main__\":\n",
                "    # 创建进程\n",
                "    p = multiprocessing.Process(name=\"my_process\", target=print_something)\n",
                "    # 修改daemon, 使主进程结束时子进程跟着结束\n",
                "    p.daemon = True  \n",
                "    # 启动进程\n",
                "    p.start()"
            ]
        },
        {
            "cell_type": "code",
            "execution_count": 62,
            "metadata": {},
            "outputs": [],
            "source": [
                "\"\"\"主进程结束时保留子进程\"\"\"\n",
                "import multiprocessing, time\n",
                "def print_something():\n",
                "    time.sleep(1)\n",
                "    print(multiprocessing.current_process().name, \"Genshin Impact Open!\")\n",
                "if __name__ == \"__main__\":\n",
                "    # 创建进程\n",
                "    p = multiprocessing.Process(name=\"my_process\", target=print_something)\n",
                "    # 启动进程\n",
                "    p.start()\n",
                "    # 阻塞当前进程, 直到调用join的方法的那个进程运行完, 再继续执行当前进程\n",
                "    p.join()"
            ]
        },
        {
            "cell_type": "code",
            "execution_count": 63,
            "metadata": {},
            "outputs": [
                {
                    "name": "stdout",
                    "output_type": "stream",
                    "text": [
                        "MainProcess 18308\n"
                    ]
                }
            ],
            "source": [
                "\"\"\"使用进程池创建并管理进程\"\"\"\n",
                "import multiprocessing, os, time, random\n",
                "def do_something(name):\n",
                "    print(name, os.getpid())\n",
                "    start = time.time()\n",
                "    time.sleep(1 + random.random() * 4)\n",
                "    end = time.time()\n",
                "    print('Processing {} costs {} seconds.'.format(name, end - start))\n",
                "if __name__ == \"__main__\":\n",
                "    # 输出主进程信息\n",
                "    name = multiprocessing.current_process().name\n",
                "    print(name, os.getpid())\n",
                "    # 创建进程池\n",
                "    max_processing = 4 # 同时运行的最大进程数, \n",
                "    pool = multiprocessing.Pool(max_processing)\n",
                "    # 向进程池提交多个进程\n",
                "    for i in range(6):\n",
                "        pool.apply_async(do_something, args=(f'Processing-{i}',))\n",
                "    # 关闭进程池, 开始运行进程\n",
                "    pool.close()\n",
                "    # 等待子进程运行\n",
                "    pool.join()"
            ]
        },
        {
            "cell_type": "code",
            "execution_count": null,
            "metadata": {},
            "outputs": [],
            "source": [
                "\"\"\"进程间通信\"\"\"\n",
                "import multiprocessing, os, time, random\n",
                "def write(queue):\n",
                "    print(f\"Writer PID: {os.getpid()}\")\n",
                "    for value in ['Star', 'Candle', 'Connection']:\n",
                "        time.sleep(random.random())\n",
                "        queue.put(value)\n",
                "        print(f'{value} goes into the queue')\n",
                "def read(queue):\n",
                "    print(f\"Reader PID: {os.getpid()}\")\n",
                "    while True:\n",
                "        value = queue.get(True)\n",
                "        print(f'{value} leaves from the queue')\n",
                "if __name__ == \"__main__\":\n",
                "    queue =  multiprocessing.Queue()\n",
                "    processing_writer = multiprocessing.Process(target=write, args=(queue,))\n",
                "    processing_reader = multiprocessing.Process(target=read, args=(queue,))\n",
                "    processing_writer.start()\n",
                "    processing_reader.start()\n",
                "    processing_writer.join()\n",
                "    processing_reader.terminate() # 强行关闭processing_reader进程"
            ]
        },
        {
            "cell_type": "markdown",
            "metadata": {},
            "source": [
                "# 正则表达式"
            ]
        },
        {
            "cell_type": "markdown",
            "metadata": {},
            "source": [
                "## 贪婪匹配和非贪婪匹配"
            ]
        },
        {
            "cell_type": "markdown",
            "metadata": {},
            "source": [
                "贪婪模式: 尽可能多的匹配字符  \n",
                "非贪婪模式: 尽可能少的匹配字符  \n",
                "默认使用贪婪模式, 如果要使用非贪婪,则在模式串上加一个 `?` "
            ]
        },
        {
            "cell_type": "code",
            "execution_count": 4,
            "metadata": {},
            "outputs": [
                {
                    "name": "stdout",
                    "output_type": "stream",
                    "text": [
                        "['java', 'andr', 'pyth']\n"
                    ]
                }
            ],
            "source": [
                "import re\n",
                "s = 'java**&&369android##@@python AI BD'\n",
                "print(re.findall('[a-z]{4,7}?', s))"
            ]
        },
        {
            "cell_type": "markdown",
            "metadata": {},
            "source": [
                "## 字符集"
            ]
        },
        {
            "cell_type": "markdown",
            "metadata": {},
            "source": [
                "字符集是由一对方括号`[]`括起来的字符集合, 它可以匹配多个字符中的一个.   \n",
                "连字符`-`用于定义一个连续字符的字符范围, 字符集里可以有多个字符范围.  \n",
                "使用`^`可以进行取反, 放在字符集的最前面.  "
            ]
        },
        {
            "cell_type": "code",
            "execution_count": 1,
            "metadata": {},
            "outputs": [
                {
                    "name": "stdout",
                    "output_type": "stream",
                    "text": [
                        "['uav', 'ubv', 'ucv', 'ucv']\n",
                        "['ucv', 'uwv', 'uzv', 'ucv', 'uov']\n"
                    ]
                }
            ],
            "source": [
                "import re\n",
                "s = 'uav,ubv,ucv,uwv,uzv,ucv,uov'\n",
                "print(re.findall('u[abc]v', s))\n",
                "print(re.findall('u[^ab]v', s))"
            ]
        },
        {
            "cell_type": "markdown",
            "metadata": {},
            "source": [
                "- `\\d`相当于`[0-9]`  \n",
                "- `\\D`相当于`[^0-9]`"
            ]
        },
        {
            "cell_type": "markdown",
            "metadata": {},
            "source": [
                "## 数量词"
            ]
        },
        {
            "cell_type": "markdown",
            "metadata": {},
            "source": [
                "量词的词法`{min,max}`, min和max都是非负整数  \n",
                "如果有逗号而且max 被忽略了, 则max没有限制  \n",
                "如果逗号和max都被忽略了, 则重复min次  "
            ]
        },
        {
            "cell_type": "code",
            "execution_count": 3,
            "metadata": {},
            "outputs": [
                {
                    "name": "stdout",
                    "output_type": "stream",
                    "text": [
                        "['java', 'android', 'python']\n",
                        "['AI', 'BD']\n"
                    ]
                }
            ],
            "source": [
                "import re\n",
                "s = 'java**&&369android##@@python AI BD'\n",
                "print(re.findall('[a-z]{4,7}', s))\n",
                "print(re.findall(r'[A-Z]{2}', s))"
            ]
        },
        {
            "cell_type": "markdown",
            "metadata": {},
            "source": [
                "- `?`相当于`{0,1}`\n",
                "- `+`相当于`{1,}`\n",
                "- `&`相当于`{0,}`"
            ]
        },
        {
            "cell_type": "markdown",
            "metadata": {},
            "source": [
                "## `re.sub()`"
            ]
        },
        {
            "cell_type": "markdown",
            "metadata": {},
            "source": [
                "可以替换字符串中的字符\n",
                "| 参数 | 描述 |\n",
                "| ---- | ---- |\n",
                "| `pattern`| 表示正则中的模式字符串  |\n",
                "| `repl` | 被替换的字符串, 也可以是函数  |\n",
                "| `string` | 即表示要被处理，要被替换的那个 string 字符串  |\n",
                "| `count` | (可选)对于pattern中匹配到的结果，count可以控制对前几个group进行替换 |\n",
                "| `flags` | (可选)正则表达式修饰符 |"
            ]
        },
        {
            "cell_type": "code",
            "execution_count": 5,
            "metadata": {},
            "outputs": [
                {
                    "name": "stdout",
                    "output_type": "stream",
                    "text": [
                        "java&&&&369android##@@python AI BD\n",
                        "java&*&&369android##@@python AI BD\n"
                    ]
                }
            ],
            "source": [
                "import re\n",
                "s = 'java**&&369android##@@python AI BD'\n",
                "print(re.sub('\\*', '&', s))\n",
                "print(re.sub('\\*', '&', s, 1))"
            ]
        },
        {
            "cell_type": "code",
            "execution_count": 6,
            "metadata": {},
            "outputs": [
                {
                    "name": "stdout",
                    "output_type": "stream",
                    "text": [
                        "java&&&&369android||@@python AI BD\n"
                    ]
                }
            ],
            "source": [
                "import re\n",
                "def convert(value):\n",
                "    group = value.group()\n",
                "    if group == '*':\n",
                "        return '&'\n",
                "    elif group == '#':\n",
                "        return '|'\n",
                "s = 'java**&&369android##@@python AI BD'\n",
                "print(re.sub('[\\*#]', convert, s))"
            ]
        },
        {
            "cell_type": "markdown",
            "metadata": {},
            "source": [
                "## `re.match()` and `re.search()`"
            ]
        },
        {
            "cell_type": "markdown",
            "metadata": {},
            "source": [
                "`re.match()`如果字符串开始不符合正则表达式, 则匹配失败, 函数返回 None  \n",
                "`re.search()`匹配整个字符串, 直到找到一个匹配  \n",
                "| 参数 | 描述 |\n",
                "| ---- | ---- |\n",
                "| pattern | 匹配的正则表达式 |\n",
                "| string  | 要匹配的字符串 |\n",
                "| flags   | 标志位，用于控制正则表达式的匹配方式，如：是否区分大小写 |"
            ]
        },
        {
            "cell_type": "code",
            "execution_count": 14,
            "metadata": {},
            "outputs": [],
            "source": [
                "s = \"Till then I'll keep struggling. Curse of justice you don't know.\"\n",
                "search = re.match('Till [^.]*', s)\n",
                "search.group(0)\n",
                "search:re.match('Curse [^.]*', s)\n",
                "# search.group(0)"
            ]
        },
        {
            "cell_type": "markdown",
            "metadata": {},
            "source": [
                "## `match.group()`"
            ]
        },
        {
            "cell_type": "markdown",
            "metadata": {},
            "source": [
                "# 元类"
            ]
        },
        {
            "cell_type": "markdown",
            "metadata": {},
            "source": [
                "# 异步编程"
            ]
        }
    ],
    "metadata": {
        "kernelspec": {
            "display_name": "Python 3",
            "language": "python",
            "name": "python3"
        },
        "language_info": {
            "codemirror_mode": {
                "name": "ipython",
                "version": 3
            },
            "file_extension": ".py",
            "mimetype": "text/x-python",
            "name": "python",
            "nbconvert_exporter": "python",
            "pygments_lexer": "ipython3",
            "version": "3.11.2"
        },
        "orig_nbformat": 4
    },
    "nbformat": 4,
    "nbformat_minor": 2
}
